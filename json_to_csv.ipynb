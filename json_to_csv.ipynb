{
 "cells": [
  {
   "cell_type": "code",
   "execution_count": 1,
   "id": "cee16600-276f-40fb-bf8a-95b4493960d2",
   "metadata": {},
   "outputs": [],
   "source": [
    "from pyspark.sql import SparkSession\n",
    "\n",
    "spark = SparkSession.builder.master(\"local\").appName(\"json_to_csv\").getOrCreate()"
   ]
  },
  {
   "cell_type": "code",
   "execution_count": 5,
   "id": "0b4f6e55",
   "metadata": {},
   "outputs": [
    {
     "name": "stdout",
     "output_type": "stream",
     "text": [
      "+-----------+------------------------------------+--------+-----------+----------+\n",
      "|event      |messageid                           |userid  |productid  |source    |\n",
      "+-----------+------------------------------------+--------+-----------+----------+\n",
      "|ProductView|6b1291ea-e50d-425b-9940-44c2aff089c1|user-78 |product-173|desktop   |\n",
      "|ProductView|b8b14eb3-8e39-42a3-9528-a323b10a7686|user-74 |product-230|desktop   |\n",
      "|ProductView|23db4f01-1576-415d-83cd-dce2d1bd28a2|user-155|product-38 |mobile-app|\n",
      "|ProductView|9a01da3e-d1ea-43da-826e-333a6867ef57|user-228|product-42 |mobile-app|\n",
      "|ProductView|b057f6a7-44f7-4f6c-a9e7-d17df9ee6088|user-346|product-784|desktop   |\n",
      "+-----------+------------------------------------+--------+-----------+----------+\n",
      "only showing top 5 rows\n",
      "\n"
     ]
    }
   ],
   "source": [
    "from pyspark.sql.functions import col, translate\n",
    "\n",
    "\n",
    "product_views = spark.read.json(r\"\\data\\product-views.json\")\n",
    "\n",
    "product_views = product_views.withColumn(\"event\", col(\"event\")) \\\n",
    "                             .withColumn(\"messageid\", col(\"messageid\")) \\\n",
    "                             .withColumn(\"userid\", col(\"userid\")) \\\n",
    "                             .withColumn(\"productid\", translate(col(\"properties\").cast(\"string\"), \"[]\",\"\")) \\\n",
    "                             .withColumn(\"source\", translate(col(\"context\").cast(\"string\"), \"[]\", \"\")) \\\n",
    "                             .drop(\"context\").drop(\"properties\")\n",
    "\n",
    "product_views.show(5, truncate=False)\n",
    "\n",
    "product_views.write.csv('product_views.csv', header='true')"
   ]
  },
  {
   "cell_type": "code",
   "execution_count": 7,
   "id": "e413d758",
   "metadata": {},
   "outputs": [
    {
     "name": "stdout",
     "output_type": "stream",
     "text": [
      "+----------+------------------------------------+--------+--------------+-------+\n",
      "|event     |messageid                           |userid  |lineitems     |orderid|\n",
      "+----------+------------------------------------+--------+--------------+-------+\n",
      "|OrderEvent|2db62eb5-de95-4ce8-8161-ab7552dc2fd7|user-346|product-784, 3|50000  |\n",
      "|OrderEvent|2db62eb5-de95-4ce8-8161-ab7552dc2fd7|user-346|product-173, 1|50000  |\n",
      "|OrderEvent|f05643d0-29e7-47ca-a1b3-12ba3e8642e3|user-391|product-424, 1|50001  |\n",
      "|OrderEvent|30d5cb63-63bb-42a2-b27a-673f3a4e7925|user-120|product-393, 3|50002  |\n",
      "|OrderEvent|60c21fb3-a115-4f10-b595-6f07998de71e|user-79 |product-369, 3|50003  |\n",
      "+----------+------------------------------------+--------+--------------+-------+\n",
      "only showing top 5 rows\n",
      "\n",
      "root\n",
      " |-- event: string (nullable = true)\n",
      " |-- messageid: string (nullable = true)\n",
      " |-- userid: string (nullable = true)\n",
      " |-- lineitems: string (nullable = true)\n",
      " |-- orderid: long (nullable = true)\n",
      "\n"
     ]
    }
   ],
   "source": [
    "from pyspark.sql.functions import col, explode, translate\n",
    "\n",
    "\n",
    "orders = spark.read.json(r\"C:\\Users\\DELL\\Desktop\\case_studies\\hepsiburada_cases\\data_engineer_exam\\data\\orders.json\")\n",
    "\n",
    "orders = orders.select(orders.event,\n",
    "                       orders.messageid,\n",
    "                       orders.userid,\n",
    "                       explode(orders.lineitems).alias(\"lineitems\"),\n",
    "                       orders.orderid) \\\n",
    "                .withColumn(\"lineitems\", translate(col(\"lineitems\").cast(\"string\"), \"[]\", \"\"))\n",
    "\n",
    "orders.show(5, truncate=False)\n",
    "orders.printSchema()\n",
    "\n",
    "orders.write.csv('orders.csv', header='true')"
   ]
  }
 ],
 "metadata": {
  "kernelspec": {
   "display_name": "Python 3 (ipykernel)",
   "language": "python",
   "name": "python3"
  },
  "language_info": {
   "codemirror_mode": {
    "name": "ipython",
    "version": 3
   },
   "file_extension": ".py",
   "mimetype": "text/x-python",
   "name": "python",
   "nbconvert_exporter": "python",
   "pygments_lexer": "ipython3",
   "version": "3.9.7"
  }
 },
 "nbformat": 4,
 "nbformat_minor": 5
}
