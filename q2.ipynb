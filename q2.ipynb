{
 "cells": [
  {
   "cell_type": "code",
   "execution_count": 1,
   "id": "cee16600-276f-40fb-bf8a-95b4493960d2",
   "metadata": {},
   "outputs": [],
   "source": [
    "from pyspark.sql import SparkSession\n",
    "\n",
    "spark = SparkSession.builder.master(\"local\").appName(\"question2\").getOrCreate()"
   ]
  },
  {
   "cell_type": "code",
   "execution_count": 20,
   "id": "59124963",
   "metadata": {},
   "outputs": [],
   "source": [
    "from pyspark.sql.functions import col, translate, explode\n",
    "\n",
    "\n",
    "product_views = spark.read.json(r\"data\\product-views.json\")\n",
    "orders = spark.read.json(r\"data\\orders.json\")\n",
    "product_category_map = spark.read.csv(r\"data\\product-category-map.csv\", header=True)\n",
    "\n",
    "product_views = product_views.withColumn(\"event\", col(\"event\")) \\\n",
    "            .withColumn(\"messageid\", col(\"messageid\")) \\\n",
    "            .withColumn(\"userid\", col(\"userid\")) \\\n",
    "            .withColumn(\"productid\", translate(col(\"properties\").cast(\"string\"), \"[]\",\"\")) \\\n",
    "            .withColumn(\"source\", translate(col(\"context\").cast(\"string\"), \"[]\", \"\")) \\\n",
    "            .drop(\"context\").drop(\"properties\")\n",
    "\n",
    "orders = orders.select(orders.event,\n",
    "                       orders.messageid,\n",
    "                       orders.userid,\n",
    "                       explode(orders.lineitems).alias(\"lineitems\"),\n",
    "                       orders.orderid) \\\n",
    "                .withColumn(\"lineitems\", translate(col(\"lineitems\").cast(\"string\"), \"[]\", \"\"))\n",
    "\n",
    "product_views.createOrReplaceTempView(\"product_views\")\n",
    "orders.createOrReplaceTempView(\"orders\")\n",
    "product_category_map.createOrReplaceTempView(\"product_category_map\")"
   ]
  },
  {
   "cell_type": "code",
   "execution_count": 4,
   "id": "a12ae7bb",
   "metadata": {},
   "outputs": [
    {
     "name": "stdout",
     "output_type": "stream",
     "text": [
      "+----------+------------------------------------+--------+--------------+-------+\n",
      "|event     |messageid                           |userid  |lineitems     |orderid|\n",
      "+----------+------------------------------------+--------+--------------+-------+\n",
      "|OrderEvent|2db62eb5-de95-4ce8-8161-ab7552dc2fd7|user-346|product-784, 3|50000  |\n",
      "|OrderEvent|2db62eb5-de95-4ce8-8161-ab7552dc2fd7|user-346|product-173, 1|50000  |\n",
      "|OrderEvent|f05643d0-29e7-47ca-a1b3-12ba3e8642e3|user-391|product-424, 1|50001  |\n",
      "|OrderEvent|30d5cb63-63bb-42a2-b27a-673f3a4e7925|user-120|product-393, 3|50002  |\n",
      "|OrderEvent|60c21fb3-a115-4f10-b595-6f07998de71e|user-79 |product-369, 3|50003  |\n",
      "+----------+------------------------------------+--------+--------------+-------+\n",
      "\n"
     ]
    }
   ],
   "source": [
    "spark.sql(\"select * from orders o limit 5\").show(truncate=False)"
   ]
  },
  {
   "cell_type": "code",
   "execution_count": 6,
   "id": "63973ff3",
   "metadata": {},
   "outputs": [
    {
     "name": "stdout",
     "output_type": "stream",
     "text": [
      "+----------+------------------------------------+--------+------------+--------+-------+\n",
      "|event     |messageid                           |userid  |productid   |quantity|orderid|\n",
      "+----------+------------------------------------+--------+------------+--------+-------+\n",
      "|OrderEvent|2db62eb5-de95-4ce8-8161-ab7552dc2fd7|user-346|product-784,|3       |50000  |\n",
      "|OrderEvent|2db62eb5-de95-4ce8-8161-ab7552dc2fd7|user-346|product-173,|1       |50000  |\n",
      "|OrderEvent|f05643d0-29e7-47ca-a1b3-12ba3e8642e3|user-391|product-424,|1       |50001  |\n",
      "|OrderEvent|30d5cb63-63bb-42a2-b27a-673f3a4e7925|user-120|product-393,|3       |50002  |\n",
      "|OrderEvent|60c21fb3-a115-4f10-b595-6f07998de71e|user-79 |product-369,|3       |50003  |\n",
      "+----------+------------------------------------+--------+------------+--------+-------+\n",
      "only showing top 5 rows\n",
      "\n"
     ]
    }
   ],
   "source": [
    "df = spark.sql(\"\"\"\n",
    "select event, messageid, userid,\n",
    "\t\tregexp_replace(substr(lineitems , 0, instr(lineitems, ',')), \",\", \"\") as productid,\n",
    "\t\tsubstr(lineitems , instr(lineitems, ',')+2, length(lineitems)) as quantity,\n",
    "\t\torderid\n",
    "from orders o\n",
    "\"\"\")\n",
    "df.show(5, truncate=False)"
   ]
  },
  {
   "cell_type": "code",
   "execution_count": 24,
   "id": "23011acc",
   "metadata": {},
   "outputs": [],
   "source": [
    "from pyspark.sql.functions import regexp_replace"
   ]
  },
  {
   "cell_type": "code",
   "execution_count": 23,
   "id": "63a16be6",
   "metadata": {},
   "outputs": [
    {
     "name": "stdout",
     "output_type": "stream",
     "text": [
      "+-----------+-----------------+\n",
      "|productid  |uniqueuserboughts|\n",
      "+-----------+-----------------+\n",
      "|product-902|1                |\n",
      "|product-944|1                |\n",
      "|product-960|1                |\n",
      "|product-952|1                |\n",
      "|product-896|1                |\n",
      "+-----------+-----------------+\n",
      "only showing top 5 rows\n",
      "\n"
     ]
    }
   ],
   "source": [
    "df = spark.sql(\"\"\"\n",
    "WITH new_orders\n",
    "AS (select event, messageid, userid,\n",
    "\t\tregexp_replace(substr(lineitems , 0, instr(lineitems, ',')), \",\", \"\") as productid,\n",
    "\t\tsubstr(lineitems , instr(lineitems, ',')+2, length(lineitems)) as quantity,\n",
    "\t\torderid\n",
    "\tfrom orders o)\n",
    "select productid, count(distinct userid) uniqueuserboughts from new_orders no group by productid order by uniqueuserboughts\n",
    "\"\"\").show(5, truncate=False)"
   ]
  },
  {
   "cell_type": "code",
   "execution_count": 25,
   "id": "5f996431",
   "metadata": {},
   "outputs": [
    {
     "name": "stdout",
     "output_type": "stream",
     "text": [
      "+-----------+-----------------+----------+\n",
      "|productid  |uniqueuserboughts|categoryid|\n",
      "+-----------+-----------------+----------+\n",
      "|product-158|59               |category-1|\n",
      "|product-45 |58               |category-1|\n",
      "|product-72 |54               |category-1|\n",
      "|product-35 |54               |category-1|\n",
      "|product-30 |53               |category-1|\n",
      "+-----------+-----------------+----------+\n",
      "only showing top 5 rows\n",
      "\n"
     ]
    }
   ],
   "source": [
    "df = spark.sql(\"\"\"\n",
    "WITH new_orders\n",
    "AS (select event, messageid, userid,\n",
    "\t\tregexp_replace(substr(lineitems , 0, instr(lineitems, ',')), \",\", \"\") as productid,\n",
    "\t\tsubstr(lineitems , instr(lineitems, ',')+2, length(lineitems)) as quantity,\n",
    "\t\torderid\n",
    "\tfrom orders o)\n",
    "select no.productid, count(distinct userid) uniqueuserboughts, pcm.categoryid\n",
    "from new_orders no\n",
    "inner join product_category_map pcm\n",
    "on no.productid=pcm.productid\n",
    "group by no.productid, pcm.categoryid order by pcm.categoryid, uniqueuserboughts desc\n",
    "\"\"\").show(5, truncate=False)"
   ]
  },
  {
   "cell_type": "code",
   "execution_count": 26,
   "id": "3356d6bc",
   "metadata": {},
   "outputs": [
    {
     "name": "stdout",
     "output_type": "stream",
     "text": [
      "+-----------+-----------------+----------+---+\n",
      "|productid  |uniqueuserboughts|categoryid|rn |\n",
      "+-----------+-----------------+----------+---+\n",
      "|product-158|59               |category-1|1  |\n",
      "|product-45 |58               |category-1|2  |\n",
      "|product-72 |54               |category-1|4  |\n",
      "|product-35 |54               |category-1|3  |\n",
      "|product-30 |53               |category-1|5  |\n",
      "+-----------+-----------------+----------+---+\n",
      "only showing top 5 rows\n",
      "\n"
     ]
    }
   ],
   "source": [
    "df = spark.sql(\"\"\"\n",
    "select * from (\n",
    "WITH new_orders\n",
    "AS (select event, messageid, userid,\n",
    "\t\tregexp_replace(substr(lineitems , 0, instr(lineitems, ',')), \",\", \"\") as productid,\n",
    "\t\tsubstr(lineitems , instr(lineitems, ',')+2, length(lineitems)) as quantity,\n",
    "\t\torderid\n",
    "\tfrom orders o)\n",
    "select no.productid, count(distinct userid) uniqueuserboughts, pcm.categoryid,\n",
    "\tROW_NUMBER() over (Partition BY pcm.categoryid order by count(distinct userid) desc) AS rn\n",
    "from new_orders no\n",
    "inner join product_category_map pcm\n",
    "on no.productid=pcm.productid\n",
    "group by no.productid,  pcm.categoryid order by pcm.categoryid, uniqueuserboughts desc) q\n",
    "where rn between 1 and 10\n",
    "\"\"\").show(5, truncate=False)"
   ]
  },
  {
   "cell_type": "code",
   "execution_count": 28,
   "id": "86c3dafe",
   "metadata": {},
   "outputs": [
    {
     "name": "stdout",
     "output_type": "stream",
     "text": [
      "+-----------+-----------------+----------+---+\n",
      "|productid  |uniqueuserboughts|categoryid|rn |\n",
      "+-----------+-----------------+----------+---+\n",
      "|product-158|59               |category-1|1  |\n",
      "|product-45 |58               |category-1|2  |\n",
      "|product-72 |54               |category-1|4  |\n",
      "|product-35 |54               |category-1|3  |\n",
      "|product-30 |53               |category-1|5  |\n",
      "+-----------+-----------------+----------+---+\n",
      "only showing top 5 rows\n",
      "\n"
     ]
    }
   ],
   "source": [
    "df = spark.sql(\"\"\"\n",
    "select * from (\n",
    "WITH new_orders\n",
    "AS (select event, messageid, userid,\n",
    "\t\tregexp_replace(substr(lineitems , 0, instr(lineitems, ',')), \",\", \"\") as productid,\n",
    "\t\tsubstr(lineitems , instr(lineitems, ',')+2, length(lineitems)) as quantity,\n",
    "\t\torderid\n",
    "\tfrom orders o)\n",
    "select no.productid, count(distinct userid) uniqueuserboughts, pcm.categoryid,\n",
    "\tROW_NUMBER() over (Partition BY pcm.categoryid order by count(distinct userid) desc) AS rn\n",
    "from new_orders no\n",
    "inner join product_category_map pcm\n",
    "on no.productid=pcm.productid\n",
    "group by no.productid,  pcm.categoryid order by pcm.categoryid, uniqueuserboughts desc) q\n",
    "where rn between 1 and 10\n",
    "\"\"\").show(5, truncate=False)"
   ]
  }
 ],
 "metadata": {
  "kernelspec": {
   "display_name": "Python 3 (ipykernel)",
   "language": "python",
   "name": "python3"
  },
  "language_info": {
   "codemirror_mode": {
    "name": "ipython",
    "version": 3
   },
   "file_extension": ".py",
   "mimetype": "text/x-python",
   "name": "python",
   "nbconvert_exporter": "python",
   "pygments_lexer": "ipython3",
   "version": "3.9.7"
  }
 },
 "nbformat": 4,
 "nbformat_minor": 5
}
