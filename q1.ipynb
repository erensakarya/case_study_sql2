{
 "cells": [
  {
   "cell_type": "code",
   "execution_count": 1,
   "id": "cee16600-276f-40fb-bf8a-95b4493960d2",
   "metadata": {},
   "outputs": [],
   "source": [
    "from pyspark.sql import SparkSession\n",
    "\n",
    "spark = SparkSession.builder.master(\"local\").appName(\"question1\").getOrCreate()"
   ]
  },
  {
   "cell_type": "code",
   "execution_count": 2,
   "id": "59124963",
   "metadata": {},
   "outputs": [],
   "source": [
    "from pyspark.sql.functions import col, translate, explode\n",
    "\n",
    "\n",
    "product_views = spark.read.json(r\"data\\product-views.json\")\n",
    "orders = spark.read.json(r\"data\\orders.json\")\n",
    "product_category_map = spark.read.csv(r\"data\\product-category-map.csv\", header=True)\n",
    "\n",
    "product_views = product_views.withColumn(\"event\", col(\"event\")) \\\n",
    "            .withColumn(\"messageid\", col(\"messageid\")) \\\n",
    "            .withColumn(\"userid\", col(\"userid\")) \\\n",
    "            .withColumn(\"productid\", translate(col(\"properties\").cast(\"string\"), \"[]\",\"\")) \\\n",
    "            .withColumn(\"source\", translate(col(\"context\").cast(\"string\"), \"[]\", \"\")) \\\n",
    "            .drop(\"context\").drop(\"properties\")\n",
    "\n",
    "orders = orders.select(orders.event,\n",
    "                       orders.messageid,\n",
    "                       orders.userid,\n",
    "                       explode(orders.lineitems).alias(\"lineitems\"),\n",
    "                       orders.orderid) \\\n",
    "                .withColumn(\"lineitems\", translate(col(\"lineitems\").cast(\"string\"), \"[]\", \"\"))\n",
    "\n",
    "product_views.createOrReplaceTempView(\"product_views\")\n",
    "orders.createOrReplaceTempView(\"orders\")\n",
    "product_category_map.createOrReplaceTempView(\"product_category_map\")"
   ]
  },
  {
   "cell_type": "code",
   "execution_count": 3,
   "id": "a12ae7bb",
   "metadata": {},
   "outputs": [
    {
     "name": "stdout",
     "output_type": "stream",
     "text": [
      "+---------+-----------+\n",
      "|productid| categoryid|\n",
      "+---------+-----------+\n",
      "|product-1|category-20|\n",
      "|product-2| category-8|\n",
      "|product-3| category-4|\n",
      "|product-4| category-6|\n",
      "|product-5| category-1|\n",
      "+---------+-----------+\n",
      "\n"
     ]
    }
   ],
   "source": [
    "spark.sql(\"select * from product_category_map limit 5\").show()"
   ]
  },
  {
   "cell_type": "code",
   "execution_count": 7,
   "id": "63973ff3",
   "metadata": {},
   "outputs": [
    {
     "name": "stdout",
     "output_type": "stream",
     "text": [
      "+-----------+---------------+-----------+---+\n",
      "|productid  |uniqueuserviews|categoryid |rn |\n",
      "+-----------+---------------+-----------+---+\n",
      "|product-132|166            |category-1 |1  |\n",
      "|product-125|157            |category-1 |2  |\n",
      "|product-35 |156            |category-1 |3  |\n",
      "|product-22 |155            |category-1 |4  |\n",
      "|product-42 |155            |category-1 |5  |\n",
      "|product-171|154            |category-1 |6  |\n",
      "|product-195|152            |category-1 |7  |\n",
      "|product-45 |150            |category-1 |8  |\n",
      "|product-72 |149            |category-1 |9  |\n",
      "|product-158|147            |category-1 |10 |\n",
      "|product-61 |159            |category-10|1  |\n",
      "|product-178|156            |category-10|2  |\n",
      "|product-184|151            |category-10|3  |\n",
      "|product-89 |148            |category-10|4  |\n",
      "|product-12 |147            |category-10|5  |\n",
      "|product-143|144            |category-10|6  |\n",
      "|product-118|142            |category-10|7  |\n",
      "|product-73 |140            |category-10|8  |\n",
      "|product-9  |139            |category-10|9  |\n",
      "|product-179|138            |category-10|10 |\n",
      "+-----------+---------------+-----------+---+\n",
      "only showing top 20 rows\n",
      "\n"
     ]
    }
   ],
   "source": [
    "df = spark.sql(\"\"\"\n",
    "select * from\n",
    "(select pv.productid, count(distinct userid) uniqueuserviews, pcm.categoryid,\n",
    "\t\tROW_NUMBER() over (Partition BY pcm.categoryid order by count(distinct userid) desc) AS rn\n",
    "from product_views pv\n",
    "inner join product_category_map pcm\n",
    "on pv.productid=pcm.productid\n",
    "group by pv.productid, pcm.categoryid order by pcm.categoryid, uniqueuserviews desc)q\n",
    "where rn between 1 and 10\n",
    "\"\"\")\n",
    "df.show(truncate=False)"
   ]
  },
  {
   "cell_type": "code",
   "execution_count": 8,
   "id": "3356d6bc",
   "metadata": {},
   "outputs": [
    {
     "data": {
      "text/plain": [
       "DataFrame[productid: string, uniqueuserviews: bigint, categoryid: string, rn: int]"
      ]
     },
     "execution_count": 8,
     "metadata": {},
     "output_type": "execute_result"
    }
   ],
   "source": [
    "df.cache()"
   ]
  },
  {
   "cell_type": "code",
   "execution_count": 18,
   "id": "eb8f6c93",
   "metadata": {},
   "outputs": [
    {
     "name": "stdout",
     "output_type": "stream",
     "text": [
      "+-----------+---------------+----------+---+\n",
      "|  productid|uniqueuserviews|categoryid| rn|\n",
      "+-----------+---------------+----------+---+\n",
      "|product-132|            166|category-1|  1|\n",
      "|product-125|            157|category-1|  2|\n",
      "| product-35|            156|category-1|  3|\n",
      "| product-22|            155|category-1|  4|\n",
      "| product-42|            155|category-1|  5|\n",
      "+-----------+---------------+----------+---+\n",
      "only showing top 5 rows\n",
      "\n"
     ]
    }
   ],
   "source": [
    "df.show(5)"
   ]
  },
  {
   "cell_type": "code",
   "execution_count": 19,
   "id": "ab016a43",
   "metadata": {},
   "outputs": [
    {
     "name": "stdout",
     "output_type": "stream",
     "text": [
      "+-----------+---------------+----------+---+------------+\n",
      "|  productid|uniqueuserviews|categoryid| rn|      deneme|\n",
      "+-----------+---------------+----------+---+------------+\n",
      "|product-132|            166|category-1|  1|category-1,1|\n",
      "|product-125|            157|category-1|  2|category-1,2|\n",
      "| product-35|            156|category-1|  3|category-1,3|\n",
      "| product-22|            155|category-1|  4|category-1,4|\n",
      "| product-42|            155|category-1|  5|category-1,5|\n",
      "+-----------+---------------+----------+---+------------+\n",
      "only showing top 5 rows\n",
      "\n"
     ]
    }
   ],
   "source": [
    "from pyspark.sql.functions import concat_ws\n",
    "\n",
    "df.withColumn(\"deneme\", concat_ws(\",\", col(\"categoryid\"), col(\"rn\"))).show(5)"
   ]
  }
 ],
 "metadata": {
  "kernelspec": {
   "display_name": "Python 3 (ipykernel)",
   "language": "python",
   "name": "python3"
  },
  "language_info": {
   "codemirror_mode": {
    "name": "ipython",
    "version": 3
   },
   "file_extension": ".py",
   "mimetype": "text/x-python",
   "name": "python",
   "nbconvert_exporter": "python",
   "pygments_lexer": "ipython3",
   "version": "3.9.7"
  }
 },
 "nbformat": 4,
 "nbformat_minor": 5
}
