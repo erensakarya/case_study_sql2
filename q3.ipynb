{
 "cells": [
  {
   "cell_type": "code",
   "execution_count": 1,
   "id": "cee16600-276f-40fb-bf8a-95b4493960d2",
   "metadata": {},
   "outputs": [],
   "source": [
    "from pyspark.sql import SparkSession\n",
    "\n",
    "spark = SparkSession.builder.master(\"local\").appName(\"question3\").getOrCreate()"
   ]
  },
  {
   "cell_type": "code",
   "execution_count": 2,
   "id": "59124963",
   "metadata": {},
   "outputs": [],
   "source": [
    "from pyspark.sql.functions import col, translate, explode\n",
    "\n",
    "\n",
    "product_views = spark.read.json(r\"data\\product-views.json\")\n",
    "orders = spark.read.json(r\"data\\orders.json\")\n",
    "product_category_map = spark.read.csv(r\"data\\product-category-map.csv\", header=True)\n",
    "\n",
    "product_views = product_views.withColumn(\"event\", col(\"event\")) \\\n",
    "            .withColumn(\"messageid\", col(\"messageid\")) \\\n",
    "            .withColumn(\"userid\", col(\"userid\")) \\\n",
    "            .withColumn(\"productid\", translate(col(\"properties\").cast(\"string\"), \"[]\",\"\")) \\\n",
    "            .withColumn(\"source\", translate(col(\"context\").cast(\"string\"), \"[]\", \"\")) \\\n",
    "            .drop(\"context\").drop(\"properties\")\n",
    "\n",
    "orders = orders.select(orders.event,\n",
    "                       orders.messageid,\n",
    "                       orders.userid,\n",
    "                       explode(orders.lineitems).alias(\"lineitems\"),\n",
    "                       orders.orderid) \\\n",
    "                .withColumn(\"lineitems\", translate(col(\"lineitems\").cast(\"string\"), \"[]\", \"\"))\n",
    "\n",
    "product_views.createOrReplaceTempView(\"product_views\")\n",
    "orders.createOrReplaceTempView(\"orders\")\n",
    "product_category_map.createOrReplaceTempView(\"product_category_map\")"
   ]
  },
  {
   "cell_type": "code",
   "execution_count": 39,
   "id": "a12ae7bb",
   "metadata": {},
   "outputs": [
    {
     "name": "stdout",
     "output_type": "stream",
     "text": [
      "+-------------+-----------------+--------------+-----------+--------+-------------------------------+\n",
      "|length(event)|length(messageid)|length(userid)|productid  |quantity|length(CAST(orderid AS STRING))|\n",
      "+-------------+-----------------+--------------+-----------+--------+-------------------------------+\n",
      "|10           |36               |8             |product-784|3       |5                              |\n",
      "|10           |36               |8             |product-173|1       |5                              |\n",
      "|10           |36               |8             |product-424|1       |5                              |\n",
      "|10           |36               |8             |product-393|3       |5                              |\n",
      "|10           |36               |7             |product-369|3       |5                              |\n",
      "|10           |36               |8             |product-430|1       |5                              |\n",
      "|10           |36               |7             |product-166|3       |5                              |\n",
      "|10           |36               |8             |product-619|3       |5                              |\n",
      "|10           |36               |8             |product-480|2       |5                              |\n",
      "|10           |36               |7             |product-6  |3       |5                              |\n",
      "|10           |36               |7             |product-199|2       |5                              |\n",
      "|10           |36               |8             |product-123|1       |5                              |\n",
      "|10           |36               |7             |product-59 |3       |5                              |\n",
      "|10           |36               |7             |product-128|1       |5                              |\n",
      "|10           |36               |8             |product-818|2       |5                              |\n",
      "|10           |36               |8             |product-46 |3       |5                              |\n",
      "|10           |36               |8             |product-540|1       |5                              |\n",
      "|10           |36               |7             |product-72 |1       |5                              |\n",
      "|10           |36               |7             |product-322|1       |5                              |\n",
      "|10           |36               |8             |product-407|1       |5                              |\n",
      "+-------------+-----------------+--------------+-----------+--------+-------------------------------+\n",
      "only showing top 20 rows\n",
      "\n"
     ]
    }
   ],
   "source": [
    "from pyspark.sql.functions import regexp_replace\n",
    "\n",
    "spark.sql(\"\"\"\n",
    "WITH new_orders\n",
    "AS (select length(event), length(messageid), length(userid),\n",
    "\t\tregexp_replace(substr(lineitems , 0, instr(lineitems, ',')), \",\", \"\") as productid,\n",
    "\t\tsubstr(lineitems , instr(lineitems, ',')+2, length(lineitems)) as quantity,\n",
    "\t\tlength(orderid)\n",
    "\tfrom orders o)\n",
    "select * from new_orders\n",
    "\"\"\").show(truncate=False)"
   ]
  },
  {
   "cell_type": "code",
   "execution_count": 40,
   "id": "67f5b86e",
   "metadata": {},
   "outputs": [
    {
     "name": "stdout",
     "output_type": "stream",
     "text": [
      "+-----------+-------------+-----------+-------------------+\n",
      "|  productid|total_boughts|total_views|    conversion_rate|\n",
      "+-----------+-------------+-----------+-------------------+\n",
      "|  product-9|         96.0|        216| 0.4444444444444444|\n",
      "| product-25|        110.0|        249|0.44176706827309237|\n",
      "|product-270|         77.0|        130| 0.5923076923076923|\n",
      "|product-774|         26.0|         53|0.49056603773584906|\n",
      "|product-435|         26.0|         68|0.38235294117647056|\n",
      "+-----------+-------------+-----------+-------------------+\n",
      "only showing top 5 rows\n",
      "\n"
     ]
    }
   ],
   "source": [
    "spark.sql(\"\"\"\n",
    "select q1.productid, q1.total_boughts, q2.total_views, cast(q1.total_boughts as float)/cast(q2.total_views as float) as conversion_rate from\n",
    "\t(WITH new_orders\n",
    "\tAS (select event, messageid, userid,\n",
    "\t\t\tregexp_replace(substr(lineitems , 0, instr(lineitems, ',')), \",\", \"\") as productid,\n",
    "\t\t\tsubstr(lineitems , instr(lineitems, ',')+2, length(lineitems)) as quantity,\n",
    "\t\t\torderid\n",
    "\t\tfrom orders o)\n",
    "\tselect no.productid, sum(quantity) as total_boughts from new_orders no\n",
    "\tgroup by no.productid) q1\n",
    "\tinner join \n",
    "\t(select pv.productid, count(*) total_views from product_views pv\n",
    "\tgroup by pv.productid) q2\n",
    "\ton q1.productid=q2.productid;\n",
    "\"\"\").show(5)"
   ]
  },
  {
   "cell_type": "code",
   "execution_count": 43,
   "id": "12ead151",
   "metadata": {},
   "outputs": [
    {
     "name": "stdout",
     "output_type": "stream",
     "text": [
      "+-----------+------------------+----------------+-------------------+\n",
      "|categoryid |sum(total_boughts)|sum(total_views)|conversion_rate    |\n",
      "+-----------+------------------+----------------+-------------------+\n",
      "|category-1 |4267.0            |9158            |0.46593142607556237|\n",
      "|category-10|2472.0            |5536            |0.44653179190751446|\n",
      "|category-11|1119.0            |2565            |0.43625730994152045|\n",
      "|category-12|1337.0            |2919            |0.4580335731414868 |\n",
      "|category-13|1641.0            |3774            |0.43481717011128773|\n",
      "|category-14|1854.0            |4159            |0.4457802356335658 |\n",
      "|category-15|1419.0            |3035            |0.4675453047775947 |\n",
      "|category-16|1518.0            |3296            |0.46055825242718446|\n",
      "|category-17|1291.0            |2709            |0.4765596160944998 |\n",
      "|category-18|1458.0            |2985            |0.4884422110552764 |\n",
      "|category-19|1813.0            |3874            |0.46799173980382036|\n",
      "|category-2 |4852.0            |11031           |0.4398513280754238 |\n",
      "|category-20|1635.0            |3583            |0.4563215182807703 |\n",
      "|category-3 |3569.0            |7872            |0.4533790650406504 |\n",
      "|category-4 |4439.0            |9801            |0.4529129680644832 |\n",
      "|category-5 |2526.0            |5482            |0.46078073695731486|\n",
      "|category-6 |1892.0            |4140            |0.4570048309178744 |\n",
      "|category-7 |2096.0            |4686            |0.4472897994024755 |\n",
      "|category-8 |2373.0            |5436            |0.43653421633554085|\n",
      "|category-9 |1855.0            |3959            |0.46855266481434704|\n",
      "+-----------+------------------+----------------+-------------------+\n",
      "\n"
     ]
    }
   ],
   "source": [
    "spark.sql(\"\"\"\n",
    "select q4.categoryid, sum(q3.total_boughts), sum(q3.total_views), sum(cast(q3.total_boughts as float))/sum(cast(q3.total_views as float)) as conversion_rate from \n",
    "\t(select q1.productid, q1.total_boughts, q2.total_views, cast(q1.total_boughts as float)/cast(q2.total_views as float) as conversion_rate from\n",
    "\t\t(WITH new_orders\n",
    "\t\tAS (select event, messageid, userid,\n",
    "\t\t\t\tregexp_replace(substr(lineitems , 0, instr(lineitems, ',')), \",\", \"\") as productid,\n",
    "\t\t\t\tsubstr(lineitems , instr(lineitems, ',')+2, length(lineitems)) as quantity,\n",
    "\t\t\t\torderid\n",
    "\t\t\tfrom orders o)\n",
    "\t\tselect no.productid, sum(quantity) as total_boughts from new_orders no\n",
    "\t\tgroup by no.productid) q1\n",
    "\t\tinner join \n",
    "\t\t(select pv.productid, count(*) total_views from product_views pv\n",
    "\t\tgroup by pv.productid) q2\n",
    "\t\ton q1.productid=q2.productid) q3\n",
    "\tinner join\n",
    "\t(select * from product_category_map pcm) q4\n",
    "\ton q3.productid=q4.productid\n",
    "group by q4.categoryid\n",
    "order by q4.categoryid\n",
    "\"\"\").show(truncate=False)"
   ]
  }
 ],
 "metadata": {
  "kernelspec": {
   "display_name": "Python 3 (ipykernel)",
   "language": "python",
   "name": "python3"
  },
  "language_info": {
   "codemirror_mode": {
    "name": "ipython",
    "version": 3
   },
   "file_extension": ".py",
   "mimetype": "text/x-python",
   "name": "python",
   "nbconvert_exporter": "python",
   "pygments_lexer": "ipython3",
   "version": "3.9.7"
  }
 },
 "nbformat": 4,
 "nbformat_minor": 5
}
